{
 "cells": [
  {
   "cell_type": "code",
   "execution_count": 1,
   "id": "bb28341c-2d88-4093-8dc4-56589c5dcab6",
   "metadata": {},
   "outputs": [],
   "source": [
    "import numpy as np\n",
    "import matplotlib.pyplot as plt\n",
    "from mpl_toolkits.mplot3d import Axes3D\n",
    "import sympy \n",
    "from sympy import symbols, Eq"
   ]
  },
  {
   "cell_type": "markdown",
   "id": "6c60e2a2-7520-4001-84b5-6e0c42296b44",
   "metadata": {},
   "source": [
    "<br><br>"
   ]
  },
  {
   "cell_type": "markdown",
   "id": "396a86da-b92b-46e0-9a0f-899b1973340d",
   "metadata": {},
   "source": [
    "# Chapter 3 --> The Four Fundamental Subspaces"
   ]
  },
  {
   "cell_type": "markdown",
   "id": "9ce1c4d5-9efb-4408-8e26-e573cde943b1",
   "metadata": {},
   "source": [
    "<br>"
   ]
  },
  {
   "cell_type": "markdown",
   "id": "62d056bf-d61d-4853-8c7a-7d40e275ce74",
   "metadata": {},
   "source": [
    "### Content\n",
    "* Column Space\n",
    "* Nullspace\n",
    "* Complete Solution to Ax=b\n",
    "* Basis\n",
    "* Dimension of Space"
   ]
  },
  {
   "cell_type": "markdown",
   "id": "493adbe5-04c8-48b6-80fc-70c94c094f2e",
   "metadata": {},
   "source": [
    "<br><br><br>"
   ]
  },
  {
   "cell_type": "markdown",
   "id": "9a9697a2-cae8-4f21-b648-f2ff6e699cce",
   "metadata": {},
   "source": [
    "## Find Column Space & Row Space"
   ]
  },
  {
   "cell_type": "markdown",
   "id": "c0a7069b-1ff4-48c6-a582-53f62fc62cce",
   "metadata": {},
   "source": [
    "#### The column space  of a matrix is the set of all possible linear combinations of its column vectors.\n",
    "*  pivot columns correspond to the linearly independent columns of the original matrix, which form a basis for the column space.\n",
    "#### The row space of a matrix is the set of all possible linear combinations of its row vectors. "
   ]
  },
  {
   "cell_type": "markdown",
   "id": "f5d030fd-1e4b-4879-8610-1d161f825610",
   "metadata": {},
   "source": [
    "<br><br>"
   ]
  },
  {
   "cell_type": "markdown",
   "id": "d3aba817-e6bd-42cc-9325-88573db9656d",
   "metadata": {},
   "source": [
    "#### Quetion : Find Column and Row space of matrix A"
   ]
  },
  {
   "cell_type": "code",
   "execution_count": 6,
   "id": "a24c8c3a-5b59-4aa4-9f3e-69e0331471a8",
   "metadata": {},
   "outputs": [
    {
     "data": {
      "text/latex": [
       "$\\displaystyle \\left[\\begin{matrix}1 & 2\\\\0 & 0\\\\0 & 0\\end{matrix}\\right]$"
      ],
      "text/plain": [
       "Matrix([\n",
       "[1, 2],\n",
       "[0, 0],\n",
       "[0, 0]])"
      ]
     },
     "execution_count": 6,
     "metadata": {},
     "output_type": "execute_result"
    }
   ],
   "source": [
    "x = np.array([1,0,0])\n",
    "y = np.array([2,0,0])\n",
    "\n",
    "A = np.column_stack((x, y))\n",
    "\n",
    "A  = sympy.Matrix(A)\n",
    "A"
   ]
  },
  {
   "cell_type": "code",
   "execution_count": 8,
   "id": "3e9dfe6a-3f12-4b6f-a1a8-69a31ebdda68",
   "metadata": {},
   "outputs": [
    {
     "data": {
      "text/latex": [
       "$\\displaystyle \\left[\\begin{matrix}1\\\\0\\\\0\\end{matrix}\\right]$"
      ],
      "text/plain": [
       "Matrix([\n",
       "[1],\n",
       "[0],\n",
       "[0]])"
      ]
     },
     "execution_count": 8,
     "metadata": {},
     "output_type": "execute_result"
    }
   ],
   "source": [
    "# column space\n",
    "column_space = A.columnspace()   \n",
    "sympy.Matrix(column_space)"
   ]
  },
  {
   "cell_type": "code",
   "execution_count": 10,
   "id": "827cb077-6fe8-47f2-8fda-3246f22c0c32",
   "metadata": {},
   "outputs": [
    {
     "data": {
      "text/latex": [
       "$\\displaystyle \\left[\\begin{matrix}1 & 2\\end{matrix}\\right]$"
      ],
      "text/plain": [
       "Matrix([[1, 2]])"
      ]
     },
     "execution_count": 10,
     "metadata": {},
     "output_type": "execute_result"
    }
   ],
   "source": [
    "# row space\n",
    "row_space = A.rowspace()   \n",
    "sympy.Matrix(row_space)"
   ]
  },
  {
   "cell_type": "markdown",
   "id": "7dd46a4d-fc62-4f09-9343-2dc4079bd026",
   "metadata": {},
   "source": [
    "<br><br>"
   ]
  },
  {
   "cell_type": "markdown",
   "id": "02655912-b168-44ae-aa35-beca8b9ef8b9",
   "metadata": {},
   "source": [
    "#### Column Space & Pivot "
   ]
  },
  {
   "cell_type": "markdown",
   "id": "152ec662-21b4-48cc-9215-62bc9811bc66",
   "metadata": {},
   "source": [
    "#### Question : See columns that contains pivots are vectors that are in column space"
   ]
  },
  {
   "cell_type": "markdown",
   "id": "dc7d67ba-05b3-4332-86ff-610dfcd54214",
   "metadata": {},
   "source": [
    "<br>"
   ]
  },
  {
   "cell_type": "code",
   "execution_count": 17,
   "id": "8e05b634-5045-4399-91e3-8f1781290a67",
   "metadata": {},
   "outputs": [
    {
     "data": {
      "text/latex": [
       "$\\displaystyle \\left[\\begin{matrix}1 & 2 & 2\\\\2 & 8 & 4\\\\-1 & 4 & -2\\end{matrix}\\right]$"
      ],
      "text/plain": [
       "Matrix([\n",
       "[ 1, 2,  2],\n",
       "[ 2, 8,  4],\n",
       "[-1, 4, -2]])"
      ]
     },
     "execution_count": 17,
     "metadata": {},
     "output_type": "execute_result"
    }
   ],
   "source": [
    "x = np.array([1,2,-1])\n",
    "y = np.array([2,8,4])\n",
    "z = np.array([2,4,-2])\n",
    "\n",
    "A = np.column_stack((x, y , z))\n",
    "\n",
    "A  = sympy.Matrix(A)\n",
    "A"
   ]
  },
  {
   "cell_type": "markdown",
   "id": "5765391a-a477-4a1f-b5e9-e65cb4ef2c5b",
   "metadata": {},
   "source": [
    "<br>"
   ]
  },
  {
   "cell_type": "code",
   "execution_count": 18,
   "id": "a3540460-208f-4c21-986f-6627fda26b06",
   "metadata": {},
   "outputs": [
    {
     "data": {
      "text/latex": [
       "$\\displaystyle \\left[\\begin{matrix}1 & 0 & 2\\\\0 & 1 & 0\\\\0 & 0 & 0\\end{matrix}\\right]$"
      ],
      "text/plain": [
       "Matrix([\n",
       "[1, 0, 2],\n",
       "[0, 1, 0],\n",
       "[0, 0, 0]])"
      ]
     },
     "execution_count": 18,
     "metadata": {},
     "output_type": "execute_result"
    }
   ],
   "source": [
    "rref, pivot_columns = sympy.Matrix(A).rref() # returns --> first one is reduced row echelon form, and the second is a tuple of indices of the pivot columns\n",
    "rref  # as you can see from rref , column1 and column2 are pivot columns "
   ]
  },
  {
   "cell_type": "code",
   "execution_count": 19,
   "id": "51a8f6b5-2334-4cee-88ca-cc942bb2615b",
   "metadata": {},
   "outputs": [
    {
     "data": {
      "text/plain": [
       "(0, 1)"
      ]
     },
     "execution_count": 19,
     "metadata": {},
     "output_type": "execute_result"
    }
   ],
   "source": [
    "pivot_columns # first 2 column "
   ]
  },
  {
   "cell_type": "markdown",
   "id": "b510f66b-eafc-4349-969d-9713f9ee0846",
   "metadata": {},
   "source": [
    "<br>"
   ]
  },
  {
   "cell_type": "code",
   "execution_count": 20,
   "id": "1bcf2b8c-edf9-46f6-a5aa-b07212b55206",
   "metadata": {},
   "outputs": [
    {
     "data": {
      "text/plain": [
       "[Matrix([\n",
       " [ 1],\n",
       " [ 2],\n",
       " [-1]]),\n",
       " Matrix([\n",
       " [2],\n",
       " [8],\n",
       " [4]])]"
      ]
     },
     "execution_count": 20,
     "metadata": {},
     "output_type": "execute_result"
    }
   ],
   "source": [
    "column_space = A.columnspace()   \n",
    "column_space # first 2 column "
   ]
  },
  {
   "cell_type": "markdown",
   "id": "f45e076f-7937-4498-84ee-435de259b57a",
   "metadata": {},
   "source": [
    "<br><br>"
   ]
  },
  {
   "cell_type": "markdown",
   "id": "2371ff5b-0feb-4d56-ac50-c809de60baf4",
   "metadata": {},
   "source": [
    "##  Nullspace"
   ]
  },
  {
   "cell_type": "markdown",
   "id": "d0802589-ecd5-46c1-aef0-dbffc70c4c88",
   "metadata": {},
   "source": [
    "#### Null Space: The null space (or kernel) of a matrix A is the set of all vectors x that satisfy the equation Ax=0 \n",
    "*  The null space is a subspace, and you can find a basis for it by solving the homogeneous system Ax=0\n",
    "*  The null space represents the set of vectors that are orthogonal (perpendicular) to the row space of the matrix.\n",
    "*  If matrix contains pivot for each column(full rank), then only null solution is {0} vector, and this solution called  \"trivial solution\""
   ]
  },
  {
   "cell_type": "markdown",
   "id": "0aafff99-4685-433e-9d46-1734c9b80ed0",
   "metadata": {},
   "source": [
    "<br>"
   ]
  },
  {
   "cell_type": "markdown",
   "id": "81ca668b-26c6-44bf-972f-d0502c62f5a2",
   "metadata": {},
   "source": [
    "#### Question: Find nullspace of a matrix A "
   ]
  },
  {
   "cell_type": "markdown",
   "id": "a667c3eb-1a54-45d0-adf3-a2820e216bb8",
   "metadata": {},
   "source": [
    "<br>"
   ]
  },
  {
   "cell_type": "code",
   "execution_count": 2,
   "id": "561b9167-dcd8-4cc6-9a37-67211025906c",
   "metadata": {},
   "outputs": [
    {
     "data": {
      "text/latex": [
       "$\\displaystyle \\left[\\begin{matrix}1 & 2 & 2\\\\2 & 8 & 4\\\\-1 & 4 & -2\\end{matrix}\\right]$"
      ],
      "text/plain": [
       "Matrix([\n",
       "[ 1, 2,  2],\n",
       "[ 2, 8,  4],\n",
       "[-1, 4, -2]])"
      ]
     },
     "execution_count": 2,
     "metadata": {},
     "output_type": "execute_result"
    }
   ],
   "source": [
    "x = np.array([1,2,-1])\n",
    "y = np.array([2,8,4])\n",
    "z = np.array([2,4,-2])\n",
    "\n",
    "A = np.column_stack((x, y , z))\n",
    "\n",
    "A  = sympy.Matrix(A)\n",
    "A"
   ]
  },
  {
   "cell_type": "code",
   "execution_count": 5,
   "id": "2bd1db87-2529-49f3-a33f-1371c7c8cacc",
   "metadata": {},
   "outputs": [
    {
     "data": {
      "text/plain": [
       "(0, 1)"
      ]
     },
     "execution_count": 5,
     "metadata": {},
     "output_type": "execute_result"
    }
   ],
   "source": [
    "rref, pivot_columns = sympy.Matrix(A).rref() \n",
    "pivot_columns # 2 pivot column , not full rank , so there is null solution except {0}"
   ]
  },
  {
   "cell_type": "code",
   "execution_count": 6,
   "id": "198187a0-ea20-4f29-aed6-70eaac695132",
   "metadata": {},
   "outputs": [
    {
     "data": {
      "text/latex": [
       "$\\displaystyle \\left[\\begin{matrix}-2\\\\0\\\\1\\end{matrix}\\right]$"
      ],
      "text/plain": [
       "Matrix([\n",
       "[-2],\n",
       "[ 0],\n",
       "[ 1]])"
      ]
     },
     "execution_count": 6,
     "metadata": {},
     "output_type": "execute_result"
    }
   ],
   "source": [
    "nullspace = A.nullspace()\n",
    "sympy.Matrix(nullspace)"
   ]
  },
  {
   "cell_type": "code",
   "execution_count": 7,
   "id": "cffc3d7d-b15c-4401-aa6e-01dc97c5f4b4",
   "metadata": {},
   "outputs": [
    {
     "data": {
      "text/plain": [
       "array([[[0],\n",
       "        [0],\n",
       "        [0]]], dtype=object)"
      ]
     },
     "execution_count": 7,
     "metadata": {},
     "output_type": "execute_result"
    }
   ],
   "source": [
    "np.matmul(A,nullspace)"
   ]
  },
  {
   "cell_type": "markdown",
   "id": "82d1170f-37e1-46f3-9d7f-b839c1bb4dfb",
   "metadata": {},
   "source": [
    "<br>"
   ]
  },
  {
   "cell_type": "markdown",
   "id": "b58aeee9-1bef-4cb8-bd86-3da6200a6f71",
   "metadata": {},
   "source": [
    "#### Full rank , only null solution is {0}"
   ]
  },
  {
   "cell_type": "code",
   "execution_count": 8,
   "id": "ee65d21a-6e59-4283-b88a-eb4cc15d8d64",
   "metadata": {},
   "outputs": [
    {
     "data": {
      "text/latex": [
       "$\\displaystyle \\left[\\begin{matrix}1 & 0 & 0\\\\0 & 1 & 0\\\\0 & 0 & 1\\end{matrix}\\right]$"
      ],
      "text/plain": [
       "Matrix([\n",
       "[1, 0, 0],\n",
       "[0, 1, 0],\n",
       "[0, 0, 1]])"
      ]
     },
     "execution_count": 8,
     "metadata": {},
     "output_type": "execute_result"
    }
   ],
   "source": [
    "x = np.array([1,0,0])\n",
    "y = np.array([0,1,0])\n",
    "z = np.array([0,0,1])\n",
    "\n",
    "A = np.column_stack((x, y , z))\n",
    "\n",
    "A  = sympy.Matrix(A)\n",
    "A"
   ]
  },
  {
   "cell_type": "code",
   "execution_count": 9,
   "id": "c6a49853-7d1a-45b5-93d2-1e9cd6982e51",
   "metadata": {},
   "outputs": [
    {
     "data": {
      "text/latex": [
       "$\\displaystyle \\left[\\begin{matrix}\\end{matrix}\\right]$"
      ],
      "text/plain": [
       "Matrix(0, 0, [])"
      ]
     },
     "execution_count": 9,
     "metadata": {},
     "output_type": "execute_result"
    }
   ],
   "source": [
    "nullspace = A.nullspace()\n",
    "sympy.Matrix(nullspace)"
   ]
  },
  {
   "cell_type": "markdown",
   "id": "0f79647e-3c59-4307-8f42-dc0be93c031c",
   "metadata": {},
   "source": [
    "<br><br><br>"
   ]
  },
  {
   "cell_type": "markdown",
   "id": "84eecc7a-8bfc-413f-817c-add2d338dd77",
   "metadata": {},
   "source": [
    "## Find Complete Solution to Ax=b"
   ]
  },
  {
   "cell_type": "code",
   "execution_count": 17,
   "id": "4ce30cd4-b194-45cb-acf3-f107b7b7f49c",
   "metadata": {},
   "outputs": [
    {
     "data": {
      "text/latex": [
       "$\\displaystyle \\left[\\begin{matrix}1 & 3 & 0 & 2\\\\0 & 0 & 1 & 4\\\\1 & 3 & 1 & 6\\end{matrix}\\right]$"
      ],
      "text/plain": [
       "Matrix([\n",
       "[1, 3, 0, 2],\n",
       "[0, 0, 1, 4],\n",
       "[1, 3, 1, 6]])"
      ]
     },
     "execution_count": 17,
     "metadata": {},
     "output_type": "execute_result"
    }
   ],
   "source": [
    "x = np.array([1,0,1])\n",
    "y = np.array([3,0,3])\n",
    "z = np.array([0,1,1])\n",
    "w = np.array([2,4,6])\n",
    "\n",
    "A = np.column_stack((x, y , z,w))\n",
    "\n",
    "A  = sympy.Matrix(A)\n",
    "A"
   ]
  },
  {
   "cell_type": "code",
   "execution_count": 18,
   "id": "a1f8924e-e057-46ca-ba82-77f94bda44c7",
   "metadata": {},
   "outputs": [
    {
     "data": {
      "text/latex": [
       "$\\displaystyle \\left[\\begin{matrix}1\\\\6\\\\7\\end{matrix}\\right]$"
      ],
      "text/plain": [
       "Matrix([\n",
       "[1],\n",
       "[6],\n",
       "[7]])"
      ]
     },
     "execution_count": 18,
     "metadata": {},
     "output_type": "execute_result"
    }
   ],
   "source": [
    "b = np.array([1,6,7])\n",
    "b = sympy.Matrix(b) # default column vector\n",
    "\n",
    "b"
   ]
  },
  {
   "cell_type": "markdown",
   "id": "4e6222af-5238-42db-9911-1a10e15fdbd1",
   "metadata": {},
   "source": [
    "<br>"
   ]
  },
  {
   "cell_type": "code",
   "execution_count": 19,
   "id": "4bcf853f-7901-4d4a-bbb5-96a4a460f046",
   "metadata": {},
   "outputs": [
    {
     "data": {
      "text/latex": [
       "$\\displaystyle \\left[\\begin{matrix}1 & 3 & 0 & 2\\\\0 & 0 & 1 & 4\\\\0 & 0 & 0 & 0\\end{matrix}\\right]$"
      ],
      "text/plain": [
       "Matrix([\n",
       "[1, 3, 0, 2],\n",
       "[0, 0, 1, 4],\n",
       "[0, 0, 0, 0]])"
      ]
     },
     "execution_count": 19,
     "metadata": {},
     "output_type": "execute_result"
    }
   ],
   "source": [
    "rref, pivot_columns = sympy.Matrix(A).rref() # returns --> first one is reduced row echelon form, and the second is a tuple of indices of the pivot columns\n",
    "rref  # as you can see from rref , column1 and column2 are pivot columns "
   ]
  },
  {
   "cell_type": "code",
   "execution_count": 20,
   "id": "920303fb-3569-4add-9699-0e13695872f5",
   "metadata": {},
   "outputs": [
    {
     "data": {
      "text/plain": [
       "(0, 2)"
      ]
     },
     "execution_count": 20,
     "metadata": {},
     "output_type": "execute_result"
    }
   ],
   "source": [
    "pivot_columns"
   ]
  },
  {
   "cell_type": "markdown",
   "id": "e1232daa-51ea-4793-8525-debe8af5d71f",
   "metadata": {},
   "source": [
    "<br>"
   ]
  },
  {
   "cell_type": "code",
   "execution_count": 23,
   "id": "91ff2254-8796-4939-a883-11cb2e310581",
   "metadata": {},
   "outputs": [
    {
     "data": {
      "text/latex": [
       "$\\displaystyle \\left\\{\\left( - 3 \\tau_{0} - 2 \\tau_{1} + 1, \\  \\tau_{0}, \\  6 - 4 \\tau_{1}, \\  \\tau_{1}\\right)\\right\\}$"
      ],
      "text/plain": [
       "{(-3*tau0 - 2*tau1 + 1, tau0, 6 - 4*tau1, tau1)}"
      ]
     },
     "execution_count": 23,
     "metadata": {},
     "output_type": "execute_result"
    }
   ],
   "source": [
    "particular_solution = sympy.linsolve((A, b))\n",
    "particular_solution"
   ]
  },
  {
   "cell_type": "code",
   "execution_count": 24,
   "id": "38a8342e-4424-4757-8a84-eb2dda2c87e1",
   "metadata": {},
   "outputs": [
    {
     "data": {
      "text/plain": [
       "[Matrix([\n",
       " [-3],\n",
       " [ 1],\n",
       " [ 0],\n",
       " [ 0]]),\n",
       " Matrix([\n",
       " [-2],\n",
       " [ 0],\n",
       " [-4],\n",
       " [ 1]])]"
      ]
     },
     "execution_count": 24,
     "metadata": {},
     "output_type": "execute_result"
    }
   ],
   "source": [
    "null_solution = A.nullspace()\n",
    "null_solution"
   ]
  },
  {
   "cell_type": "markdown",
   "id": "2f596f2f-2c4d-434f-851b-fcf76eafb053",
   "metadata": {},
   "source": [
    "<br>"
   ]
  },
  {
   "cell_type": "markdown",
   "id": "7d1e11c4-e887-490c-ac7d-ed8fc4dedba7",
   "metadata": {},
   "source": [
    "##### (n-r) null space solution (kernel)"
   ]
  },
  {
   "cell_type": "code",
   "execution_count": 25,
   "id": "26f82507-39fc-4030-a804-1c9a253d7f18",
   "metadata": {},
   "outputs": [
    {
     "data": {
      "text/latex": [
       "$\\displaystyle \\left[\\begin{matrix}0\\\\0\\\\0\\end{matrix}\\right]$"
      ],
      "text/plain": [
       "Matrix([\n",
       "[0],\n",
       "[0],\n",
       "[0]])"
      ]
     },
     "execution_count": 25,
     "metadata": {},
     "output_type": "execute_result"
    }
   ],
   "source": [
    "sympy.Matrix(np.matmul(A,null_solution[0]))"
   ]
  },
  {
   "cell_type": "code",
   "execution_count": 26,
   "id": "e40a4651-8f39-4ec3-bed9-c6fa8d8ab648",
   "metadata": {},
   "outputs": [
    {
     "data": {
      "text/latex": [
       "$\\displaystyle \\left[\\begin{matrix}0\\\\0\\\\0\\end{matrix}\\right]$"
      ],
      "text/plain": [
       "Matrix([\n",
       "[0],\n",
       "[0],\n",
       "[0]])"
      ]
     },
     "execution_count": 26,
     "metadata": {},
     "output_type": "execute_result"
    }
   ],
   "source": [
    "sympy.Matrix(np.matmul(A,null_solution[1]))"
   ]
  },
  {
   "cell_type": "markdown",
   "id": "eb24cda3-6f25-4a43-b553-088c5d0b84b6",
   "metadata": {},
   "source": [
    "#### Solution is --> general solution = particular_solution + null_solution"
   ]
  },
  {
   "cell_type": "markdown",
   "id": "36bab333-b571-494a-939b-8c66d1060ee1",
   "metadata": {},
   "source": [
    "<br><br>"
   ]
  },
  {
   "cell_type": "markdown",
   "id": "af537458-ce80-4a78-8933-b12c1ee632be",
   "metadata": {},
   "source": [
    "## Basis"
   ]
  },
  {
   "cell_type": "markdown",
   "id": "82fd8fa9-a6fa-4bec-adc6-91d0e7059d92",
   "metadata": {},
   "source": [
    "#### A basis of a vector space is a set of linearly independent vectors that span the entire space\n",
    "* Linearly Independent: The vectors in the basis must be linearly independent\n",
    "* Spanning: The basis vectors must span the entire vector space\n",
    "* Dimension: The number of vectors in the basis is called the dimension of the vector space."
   ]
  },
  {
   "cell_type": "code",
   "execution_count": 27,
   "id": "3cc248e7-97e8-4cef-87af-373acc4a36c3",
   "metadata": {},
   "outputs": [
    {
     "data": {
      "text/plain": [
       "[Matrix([\n",
       " [1],\n",
       " [0],\n",
       " [1]]),\n",
       " Matrix([\n",
       " [0],\n",
       " [1],\n",
       " [1]])]"
      ]
     },
     "execution_count": 27,
     "metadata": {},
     "output_type": "execute_result"
    }
   ],
   "source": [
    "# Find the basis for the column space\n",
    "basis = A.columnspace()\n",
    "\n",
    "basis"
   ]
  },
  {
   "cell_type": "markdown",
   "id": "26a06921-aa87-40d6-ac5d-a2d3659aba36",
   "metadata": {},
   "source": [
    "#### here the basis vectors --> span a plane in R3\n"
   ]
  },
  {
   "cell_type": "markdown",
   "id": "5bc60ca9-7cbf-4adb-95a9-147bc022fc0b",
   "metadata": {},
   "source": [
    "<br><br>"
   ]
  },
  {
   "cell_type": "markdown",
   "id": "7aeee450-7954-4bcc-b952-7943797580e1",
   "metadata": {},
   "source": [
    "## Dimension of space"
   ]
  },
  {
   "cell_type": "markdown",
   "id": "488089e6-865e-491c-a39f-97462502f585",
   "metadata": {},
   "source": [
    "#### Dimension: The number of vectors in the basis is called the dimension of the vector space."
   ]
  },
  {
   "cell_type": "code",
   "execution_count": 28,
   "id": "de2900cf-65a8-49d2-a198-8073f36a0721",
   "metadata": {},
   "outputs": [
    {
     "data": {
      "text/plain": [
       "2"
      ]
     },
     "execution_count": 28,
     "metadata": {},
     "output_type": "execute_result"
    }
   ],
   "source": [
    "len(basis) "
   ]
  },
  {
   "cell_type": "markdown",
   "id": "929456ca-8184-4fb8-a5df-2fbce783c0fa",
   "metadata": {},
   "source": [
    "<br><br><br><br><br><br><br><br><br><br>"
   ]
  },
  {
   "cell_type": "code",
   "execution_count": null,
   "id": "09c028dd-bf37-4b7c-a207-303bb17dc000",
   "metadata": {},
   "outputs": [],
   "source": []
  }
 ],
 "metadata": {
  "kernelspec": {
   "display_name": "Python 3 (ipykernel)",
   "language": "python",
   "name": "python3"
  },
  "language_info": {
   "codemirror_mode": {
    "name": "ipython",
    "version": 3
   },
   "file_extension": ".py",
   "mimetype": "text/x-python",
   "name": "python",
   "nbconvert_exporter": "python",
   "pygments_lexer": "ipython3",
   "version": "3.10.0"
  }
 },
 "nbformat": 4,
 "nbformat_minor": 5
}
