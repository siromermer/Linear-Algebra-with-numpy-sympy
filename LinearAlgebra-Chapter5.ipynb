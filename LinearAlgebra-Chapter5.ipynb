{
 "cells": [
  {
   "cell_type": "code",
   "execution_count": 2,
   "id": "45b3087b-091d-444c-ae86-f4574a06ceb8",
   "metadata": {},
   "outputs": [],
   "source": [
    "import numpy as np\n",
    "import matplotlib.pyplot as plt\n",
    "from mpl_toolkits.mplot3d import Axes3D\n",
    "import sympy \n",
    "from sympy import symbols, Eq"
   ]
  },
  {
   "cell_type": "markdown",
   "id": "4d050a27-4444-4e35-a55a-9fc129d341cd",
   "metadata": {},
   "source": [
    "<br>"
   ]
  },
  {
   "cell_type": "markdown",
   "id": "ac713665-625c-4ab9-b0e0-be0ca3ee0b90",
   "metadata": {},
   "source": [
    "## Determinant\n",
    "\n",
    "Content \n",
    "* Definition of determinant\n",
    "* Determinant reverse sign when two rows are exchanged\n",
    "* det(A) = 0 means columns of A are not independent\n",
    "* det(AB) = det(A).det(B)\n",
    "* Cramer's Rule"
   ]
  },
  {
   "cell_type": "markdown",
   "id": "4014d9b2-34cd-48d4-ba4b-303518c7411f",
   "metadata": {},
   "source": [
    "<br><br>"
   ]
  },
  {
   "cell_type": "markdown",
   "id": "f8f472ff-449f-490e-b63a-b1b58734bf65",
   "metadata": {},
   "source": [
    "#### Determinant is a scalar value that can be computed from the elements of a square matrix. ( more on chapter 5 )\n",
    "\n",
    "* If det(𝐴) = 0 --> Singular matrix : matrix does not have an inverse , linear equations that either has no solution or an infinite number of solutions\n",
    "* If det(𝐴) != 0 --> non Singular matrix : matrix has an inverse, linear equations that has a unique solution (invertible)\n",
    "* det(A_transpose) = det(A)"
   ]
  },
  {
   "cell_type": "markdown",
   "id": "9349dfbb-1c95-4596-b219-83add5d891bb",
   "metadata": {},
   "source": [
    "<br><br><br><br>"
   ]
  },
  {
   "cell_type": "markdown",
   "id": "dfcd9a34-44ed-4423-a4c9-e89eda029f83",
   "metadata": {},
   "source": [
    "## Determinant reverse sign when two rows are exchanged"
   ]
  },
  {
   "cell_type": "code",
   "execution_count": 3,
   "id": "bb9b9bda-eb1c-49e0-baed-0bbdb7db0928",
   "metadata": {},
   "outputs": [
    {
     "data": {
      "text/latex": [
       "$\\displaystyle \\left[\\begin{matrix}2 & 3\\\\4 & 7\\end{matrix}\\right]$"
      ],
      "text/plain": [
       "Matrix([\n",
       "[2, 3],\n",
       "[4, 7]])"
      ]
     },
     "execution_count": 3,
     "metadata": {},
     "output_type": "execute_result"
    }
   ],
   "source": [
    "x = np.array([2,4])\n",
    "y = np.array([3,7])\n",
    "\n",
    "A = np.column_stack((x, y))\n",
    "\n",
    "sympy.Matrix(A)"
   ]
  },
  {
   "cell_type": "code",
   "execution_count": 6,
   "id": "879e33b4-918b-4abf-a273-dea801523e61",
   "metadata": {},
   "outputs": [
    {
     "data": {
      "text/plain": [
       "2.0"
      ]
     },
     "execution_count": 6,
     "metadata": {},
     "output_type": "execute_result"
    }
   ],
   "source": [
    "np.linalg.det(A) # 2*7 - 4*3 = 2"
   ]
  },
  {
   "cell_type": "markdown",
   "id": "e0918760-f796-4052-a7a5-1b0e7e949600",
   "metadata": {},
   "source": [
    "<br>"
   ]
  },
  {
   "cell_type": "code",
   "execution_count": 4,
   "id": "35dbae56-5b94-4bd5-9a83-bdcc740dc88e",
   "metadata": {},
   "outputs": [
    {
     "data": {
      "text/latex": [
       "$\\displaystyle \\left[\\begin{matrix}0 & 1\\\\1 & 0\\end{matrix}\\right]$"
      ],
      "text/plain": [
       "Matrix([\n",
       "[0, 1],\n",
       "[1, 0]])"
      ]
     },
     "execution_count": 4,
     "metadata": {},
     "output_type": "execute_result"
    }
   ],
   "source": [
    "p1 = np.array([0,1])\n",
    "p2 = np.array([1,0])\n",
    "\n",
    "permutation_matrix = np.column_stack((p1, p2))\n",
    "\n",
    "sympy.Matrix(permutation_matrix)"
   ]
  },
  {
   "cell_type": "code",
   "execution_count": 7,
   "id": "cf6afe69-e8ab-40a3-9ee4-08ff72c6304a",
   "metadata": {},
   "outputs": [
    {
     "data": {
      "text/latex": [
       "$\\displaystyle \\left[\\begin{matrix}4 & 7\\\\2 & 3\\end{matrix}\\right]$"
      ],
      "text/plain": [
       "Matrix([\n",
       "[4, 7],\n",
       "[2, 3]])"
      ]
     },
     "execution_count": 7,
     "metadata": {},
     "output_type": "execute_result"
    }
   ],
   "source": [
    "row_exchanged_matrix = np.matmul(permutation_matrix,A)\n",
    "sympy.Matrix(row_exchanged_matrix)"
   ]
  },
  {
   "cell_type": "code",
   "execution_count": 8,
   "id": "be9c5780-4096-4f95-8b9e-775f82a079b7",
   "metadata": {},
   "outputs": [
    {
     "data": {
      "text/plain": [
       "-2.0"
      ]
     },
     "execution_count": 8,
     "metadata": {},
     "output_type": "execute_result"
    }
   ],
   "source": [
    "np.linalg.det(row_exchanged_matrix) "
   ]
  },
  {
   "cell_type": "markdown",
   "id": "786fb9af-f9bd-4a41-b451-36a25a7b30e8",
   "metadata": {},
   "source": [
    "##### np.linalg.det(A)       ----> 2 \n",
    "##### np.linalg.det(row_exchanged_matrix) ----> -2 "
   ]
  },
  {
   "cell_type": "markdown",
   "id": "5945147e-cea2-44c1-bb26-e42f8638fa7e",
   "metadata": {},
   "source": [
    "<br><br><br><br>"
   ]
  },
  {
   "cell_type": "markdown",
   "id": "d96caa04-f37b-4c6a-9c89-20d857349f50",
   "metadata": {},
   "source": [
    "## det(A) = 0 means columns of A are not independent"
   ]
  },
  {
   "cell_type": "code",
   "execution_count": 15,
   "id": "e8d00590-93cb-4b8a-9ae7-95cad2bff612",
   "metadata": {},
   "outputs": [
    {
     "data": {
      "text/latex": [
       "$\\displaystyle \\left[\\begin{matrix}2 & 3 & 5\\\\4 & 7 & 11\\\\6 & 10 & 16\\end{matrix}\\right]$"
      ],
      "text/plain": [
       "Matrix([\n",
       "[2,  3,  5],\n",
       "[4,  7, 11],\n",
       "[6, 10, 16]])"
      ]
     },
     "execution_count": 15,
     "metadata": {},
     "output_type": "execute_result"
    }
   ],
   "source": [
    "x = np.array([2,4,6])\n",
    "y = np.array([3,7,10])\n",
    "z = np.array([5,11,16])\n",
    "A = np.column_stack((x, y,z))\n",
    "\n",
    "sympy.Matrix(A)"
   ]
  },
  {
   "cell_type": "code",
   "execution_count": 16,
   "id": "6546967f-3f8d-4a2b-980f-37b6cd471a69",
   "metadata": {},
   "outputs": [
    {
     "data": {
      "text/plain": [
       "0.0"
      ]
     },
     "execution_count": 16,
     "metadata": {},
     "output_type": "execute_result"
    }
   ],
   "source": [
    "np.linalg.det(A) "
   ]
  },
  {
   "cell_type": "code",
   "execution_count": 17,
   "id": "23178cdb-91ea-4757-b251-9578d27133fd",
   "metadata": {},
   "outputs": [
    {
     "data": {
      "text/latex": [
       "$\\displaystyle \\left[\\begin{matrix}1 & 0 & 1\\\\0 & 1 & 1\\\\0 & 0 & 0\\end{matrix}\\right]$"
      ],
      "text/plain": [
       "Matrix([\n",
       "[1, 0, 1],\n",
       "[0, 1, 1],\n",
       "[0, 0, 0]])"
      ]
     },
     "execution_count": 17,
     "metadata": {},
     "output_type": "execute_result"
    }
   ],
   "source": [
    "rref, pivot_columns = sympy.Matrix(A).rref() # returns --> first one is reduced row echelon form, and the second is a tuple of indices of the pivot columns\n",
    "rref  # as you can see from rref , column1 and column2 are pivot columns "
   ]
  },
  {
   "cell_type": "code",
   "execution_count": 14,
   "id": "6c055b15-91c6-4cf9-9f37-7284b34f7597",
   "metadata": {},
   "outputs": [
    {
     "data": {
      "text/plain": [
       "(0, 1)"
      ]
     },
     "execution_count": 14,
     "metadata": {},
     "output_type": "execute_result"
    }
   ],
   "source": [
    "pivot_columns # not full rank "
   ]
  },
  {
   "cell_type": "markdown",
   "id": "2ec89a1c-5f21-4883-9838-1ba8834bffdb",
   "metadata": {},
   "source": [
    "<br>"
   ]
  },
  {
   "cell_type": "markdown",
   "id": "9600cd78-e3b4-4b9b-bb16-6a8d670f5bc8",
   "metadata": {},
   "source": [
    "#### Row1 + Row2 = Row3 \n",
    "#### Columns of A are not independent"
   ]
  },
  {
   "cell_type": "markdown",
   "id": "34abdeb0-2e90-4aac-9351-758c13006a01",
   "metadata": {},
   "source": [
    "<br><br><br><br>"
   ]
  },
  {
   "cell_type": "markdown",
   "id": "4379d1cd-020b-4b6b-9b8b-70884f7039a9",
   "metadata": {},
   "source": [
    "## det(AB) = det(A).det(B)"
   ]
  },
  {
   "cell_type": "code",
   "execution_count": 18,
   "id": "f257d1fa-ca2b-49ad-8b5d-98987444581e",
   "metadata": {},
   "outputs": [
    {
     "data": {
      "text/latex": [
       "$\\displaystyle \\left[\\begin{matrix}-2 & 3 & 1\\\\1 & -7 & 1\\\\2 & 0 & -3\\end{matrix}\\right]$"
      ],
      "text/plain": [
       "Matrix([\n",
       "[-2,  3,  1],\n",
       "[ 1, -7,  1],\n",
       "[ 2,  0, -3]])"
      ]
     },
     "execution_count": 18,
     "metadata": {},
     "output_type": "execute_result"
    }
   ],
   "source": [
    "x = np.array([-2,1,2])\n",
    "y = np.array([3,-7,0])\n",
    "z = np.array([1,1,-3])\n",
    "A = np.column_stack((x, y,z))\n",
    "\n",
    "sympy.Matrix(A)"
   ]
  },
  {
   "cell_type": "code",
   "execution_count": 21,
   "id": "c5ddd399-2b3f-4609-a264-d1b4bc1e699b",
   "metadata": {},
   "outputs": [
    {
     "data": {
      "text/latex": [
       "$\\displaystyle \\left[\\begin{matrix}1 & 2 & 0\\\\1 & 3 & 1\\\\1 & 7 & -3\\end{matrix}\\right]$"
      ],
      "text/plain": [
       "Matrix([\n",
       "[1, 2,  0],\n",
       "[1, 3,  1],\n",
       "[1, 7, -3]])"
      ]
     },
     "execution_count": 21,
     "metadata": {},
     "output_type": "execute_result"
    }
   ],
   "source": [
    "x = np.array([1,1,1])\n",
    "y = np.array([2,3,7])\n",
    "z = np.array([0,1,-3])\n",
    "B = np.column_stack((x, y,z))\n",
    "\n",
    "sympy.Matrix(B)"
   ]
  },
  {
   "cell_type": "markdown",
   "id": "cb318798-3d83-452c-8375-07d203c8a038",
   "metadata": {},
   "source": [
    "<br>"
   ]
  },
  {
   "cell_type": "markdown",
   "id": "41f2d238-60fc-40b7-8d0f-216d9918c05a",
   "metadata": {},
   "source": [
    "#### det(AB)"
   ]
  },
  {
   "cell_type": "code",
   "execution_count": 24,
   "id": "cf95f3f6-9fc8-4077-a94b-d0cd854237a7",
   "metadata": {},
   "outputs": [
    {
     "data": {
      "text/plain": [
       "103.99999999999999"
      ]
     },
     "execution_count": 24,
     "metadata": {},
     "output_type": "execute_result"
    }
   ],
   "source": [
    "np.linalg.det(np.matmul(A,B))"
   ]
  },
  {
   "cell_type": "markdown",
   "id": "8d713c71-b43c-4a18-83ae-f576f476f43b",
   "metadata": {},
   "source": [
    "#### det(A)*det(B)"
   ]
  },
  {
   "cell_type": "code",
   "execution_count": 25,
   "id": "4790da25-d33d-40c7-8311-d726789835cf",
   "metadata": {},
   "outputs": [
    {
     "data": {
      "text/plain": [
       "103.99999999999997"
      ]
     },
     "execution_count": 25,
     "metadata": {},
     "output_type": "execute_result"
    }
   ],
   "source": [
    "np.linalg.det(A) * np.linalg.det(B)"
   ]
  },
  {
   "cell_type": "markdown",
   "id": "fd23d97c-d665-4f67-8cc7-ec884fb72b2b",
   "metadata": {},
   "source": [
    "<br><br><br>"
   ]
  },
  {
   "cell_type": "markdown",
   "id": "08a9e283-828a-4be3-8ce0-995765b1568f",
   "metadata": {},
   "source": [
    "## Cramer's Rule"
   ]
  },
  {
   "cell_type": "markdown",
   "id": "cdbd8d51-2d1a-4362-91cd-a4d916f40ab2",
   "metadata": {},
   "source": [
    "#### Cramer's Rule is a method for solving a system of linear equations using determinants. "
   ]
  },
  {
   "cell_type": "markdown",
   "id": "0a49709f-acc1-44e9-b8dd-18b9549d1c5a",
   "metadata": {},
   "source": [
    "* Find the Determinant: Calculate the determinant of the coefficient matrix, denoted as D.\n",
    "* Replace Columns: For each variable, replace the corresponding column in the coefficient matrix with the constants from the right-hand side of the equations.\n",
    "* Calculate Determinants: Compute the determinant of each modified matrix.\n",
    "* Solve for Variables: Each variable is found by dividing the determinant of the modified matrix by D."
   ]
  },
  {
   "cell_type": "markdown",
   "id": "1bf9d952-fbb9-48cd-97fa-6769cbbde990",
   "metadata": {},
   "source": [
    "<br>"
   ]
  },
  {
   "cell_type": "markdown",
   "id": "0f4421ae-c13d-4cc2-a054-ca0d7e3138da",
   "metadata": {},
   "source": [
    "### 3x_1 + 4x_2 = 2 and 5x_1 + 6x_2 = 4 "
   ]
  },
  {
   "cell_type": "code",
   "execution_count": 55,
   "id": "fc661f62-4f9c-4290-a0f3-c824ec60d402",
   "metadata": {},
   "outputs": [
    {
     "data": {
      "text/latex": [
       "$\\displaystyle \\left[\\begin{matrix}3 & 4\\\\5 & 6\\end{matrix}\\right]$"
      ],
      "text/plain": [
       "Matrix([\n",
       "[3, 4],\n",
       "[5, 6]])"
      ]
     },
     "execution_count": 55,
     "metadata": {},
     "output_type": "execute_result"
    }
   ],
   "source": [
    "x = np.array([3,5])\n",
    "y = np.array([4,6])\n",
    "\n",
    "b = np.array([2,4])\n",
    "\n",
    "A = np.column_stack((x, y))\n",
    "\n",
    "sympy.Matrix(A)"
   ]
  },
  {
   "cell_type": "code",
   "execution_count": 56,
   "id": "4a78deb8-735d-4de1-987e-710b4ea32010",
   "metadata": {},
   "outputs": [
    {
     "data": {
      "text/plain": [
       "-1.9999999999999971"
      ]
     },
     "execution_count": 56,
     "metadata": {},
     "output_type": "execute_result"
    }
   ],
   "source": [
    "matrix_determinant = np.linalg.det(A)\n",
    "matrix_determinant"
   ]
  },
  {
   "cell_type": "code",
   "execution_count": 57,
   "id": "d7d59ab3-871a-4b83-b8e3-cac351335572",
   "metadata": {},
   "outputs": [],
   "source": [
    "A_x = np.copy(A)\n",
    "A_x[:, 0] = b\n",
    "det_x = np.linalg.det(A_x)"
   ]
  },
  {
   "cell_type": "code",
   "execution_count": 58,
   "id": "732ac4ab-2cff-475a-b54e-24519bf19051",
   "metadata": {},
   "outputs": [],
   "source": [
    "A_y = np.copy(A)\n",
    "A_y[:, 1] = b\n",
    "det_y = np.linalg.det(A_y)"
   ]
  },
  {
   "cell_type": "code",
   "execution_count": 59,
   "id": "b5614393-7ef1-4771-bfdf-595f3f4421e2",
   "metadata": {},
   "outputs": [
    {
     "name": "stdout",
     "output_type": "stream",
     "text": [
      "Solution for x: 2.000000000000003\n",
      "Solution for y: -1.0000000000000022\n"
     ]
    }
   ],
   "source": [
    "# Apply Cramer's Rule to find the solution\n",
    "solution_of_x = det_x / matrix_determinant\n",
    "solution_of_y = det_y / matrix_determinant\n",
    "\n",
    "print(\"Solution for x:\", solution_of_x)\n",
    "print(\"Solution for y:\", solution_of_y)"
   ]
  },
  {
   "cell_type": "markdown",
   "id": "95048fb7-65a2-4446-b0f0-a115395afb96",
   "metadata": {},
   "source": [
    "<br><br><br><br><br>"
   ]
  },
  {
   "cell_type": "code",
   "execution_count": null,
   "id": "6d504c54-0c99-4760-9167-7257c5dbbcfd",
   "metadata": {},
   "outputs": [],
   "source": []
  }
 ],
 "metadata": {
  "kernelspec": {
   "display_name": "Python 3 (ipykernel)",
   "language": "python",
   "name": "python3"
  },
  "language_info": {
   "codemirror_mode": {
    "name": "ipython",
    "version": 3
   },
   "file_extension": ".py",
   "mimetype": "text/x-python",
   "name": "python",
   "nbconvert_exporter": "python",
   "pygments_lexer": "ipython3",
   "version": "3.10.0"
  }
 },
 "nbformat": 4,
 "nbformat_minor": 5
}
