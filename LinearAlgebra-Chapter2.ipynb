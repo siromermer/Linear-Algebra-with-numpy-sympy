{
 "cells": [
  {
   "cell_type": "code",
   "execution_count": 1,
   "id": "e1a59bb3-cce2-49b2-b270-95e6915abc02",
   "metadata": {},
   "outputs": [],
   "source": [
    "import numpy as np\n",
    "import matplotlib.pyplot as plt\n",
    "from mpl_toolkits.mplot3d import Axes3D\n",
    "import sympy \n",
    "from sympy import symbols, Eq"
   ]
  },
  {
   "cell_type": "markdown",
   "id": "82546bb1-c160-428e-ba8e-b074cfde2c79",
   "metadata": {},
   "source": [
    "<br><br><br>"
   ]
  },
  {
   "cell_type": "markdown",
   "id": "4df54f4c-05b9-4881-9448-ba5835cd2102",
   "metadata": {},
   "source": [
    "# Chapter 2 -->  Solving Linear Equations Ax = b"
   ]
  },
  {
   "cell_type": "markdown",
   "id": "0b5aeadf-18de-4458-91e8-94dd9cac4d06",
   "metadata": {},
   "source": [
    "<br>"
   ]
  },
  {
   "cell_type": "markdown",
   "id": "f53f0156-42a7-43e7-b00a-9861e219e4ef",
   "metadata": {},
   "source": [
    "### Content\n",
    "* Upper Triuangular Form\n",
    "* Solving Ax=b\n",
    "* A=LU\n",
    "* Inverse Matrices\n",
    "* Determinant\n",
    "* Permutation Matrices\n",
    "* Transpose"
   ]
  },
  {
   "cell_type": "markdown",
   "id": "bd916953-8dfc-45be-88e9-428db2733c76",
   "metadata": {},
   "source": [
    "<br><br><br>"
   ]
  },
  {
   "cell_type": "markdown",
   "id": "df62317b-7585-4cd3-a62c-1372c3f01d38",
   "metadata": {},
   "source": [
    "## Upper Triangular Form & Solving Ax=b"
   ]
  },
  {
   "cell_type": "markdown",
   "id": "2f88cc9d-70c9-462a-b479-079157406ece",
   "metadata": {},
   "source": [
    "<br>"
   ]
  },
  {
   "cell_type": "markdown",
   "id": "667134f3-6579-45e7-a0a7-20165d4c7489",
   "metadata": {},
   "source": [
    "#### Upper triangular form is a type of square matrix where all the elements below the main diagonal are zero. "
   ]
  },
  {
   "cell_type": "markdown",
   "id": "1b3a0e2e-a3da-435c-8142-a2b86d3f3215",
   "metadata": {},
   "source": [
    "#### Solving Ax=b \n",
    "* Gaussian Elimination : Matrix --> Upper Triangular --> Solve using back substitution\n",
    "* LU Decomposition: Decompose A into a lower triangular matrix L and an upper triangular matrix U\n",
    "* Inverse Method: If A is invertible, find --> x = 𝐴_inverse.b\n",
    " "
   ]
  },
  {
   "cell_type": "markdown",
   "id": "876a1a04-c20f-45a1-a3bb-3531588c03ac",
   "metadata": {},
   "source": [
    "<br>"
   ]
  },
  {
   "cell_type": "markdown",
   "id": "17badadc-6070-40a8-b80c-badc94a634ad",
   "metadata": {},
   "source": [
    "#### 2.1.12.a : Reduce to upper triangular form by row operations. Then find z, y. z. \n",
    "\n",
    "2x +3y+ z = 8 <br>\n",
    "4x + 7y+ 5z =20  <br>\n",
    "2z -2y = 0  <br>"
   ]
  },
  {
   "cell_type": "code",
   "execution_count": 46,
   "id": "42311e6a-8a53-4ed4-ab18-0cdfc6c95ff8",
   "metadata": {},
   "outputs": [
    {
     "data": {
      "text/latex": [
       "$\\displaystyle \\left[\\begin{matrix}2 & 3 & 1\\\\4 & 7 & 5\\\\0 & -2 & 2\\end{matrix}\\right]$"
      ],
      "text/plain": [
       "Matrix([\n",
       "[2,  3, 1],\n",
       "[4,  7, 5],\n",
       "[0, -2, 2]])"
      ]
     },
     "execution_count": 46,
     "metadata": {},
     "output_type": "execute_result"
    }
   ],
   "source": [
    "x = np.array([2,4,0])\n",
    "y = np.array([3,7,-2])\n",
    "z = np.array([1,5,2])\n",
    "\n",
    "\n",
    "A = np.column_stack((x, y, z))\n",
    "\n",
    "A  = sympy.Matrix(A)\n",
    "A"
   ]
  },
  {
   "cell_type": "code",
   "execution_count": 47,
   "id": "00762f37-2c2f-4184-a5d1-d2a19327b220",
   "metadata": {},
   "outputs": [
    {
     "data": {
      "text/latex": [
       "$\\displaystyle \\left[\\begin{matrix}8\\\\20\\\\0\\end{matrix}\\right]$"
      ],
      "text/plain": [
       "Matrix([\n",
       "[ 8],\n",
       "[20],\n",
       "[ 0]])"
      ]
     },
     "execution_count": 47,
     "metadata": {},
     "output_type": "execute_result"
    }
   ],
   "source": [
    "b = np.array([8,20,0])\n",
    "B = sympy.Matrix(b) # default column vector\n",
    "B"
   ]
  },
  {
   "cell_type": "markdown",
   "id": "11a3d275-0407-4394-905c-4165a099a8b4",
   "metadata": {},
   "source": [
    "<br>"
   ]
  },
  {
   "cell_type": "code",
   "execution_count": 48,
   "id": "3a87d804-b4fa-40f4-82ad-6ee42c80b6e6",
   "metadata": {},
   "outputs": [
    {
     "data": {
      "text/latex": [
       "$\\displaystyle \\left[\\begin{matrix}2 x + 3 y + z\\\\4 x + 7 y + 5 z\\\\- 2 y + 2 z\\end{matrix}\\right] = \\left[\\begin{matrix}8\\\\20\\\\0\\end{matrix}\\right]$"
      ],
      "text/plain": [
       "Eq(Matrix([\n",
       "[  2*x + 3*y + z],\n",
       "[4*x + 7*y + 5*z],\n",
       "[     -2*y + 2*z]]), Matrix([\n",
       "[ 8],\n",
       "[20],\n",
       "[ 0]]))"
      ]
     },
     "execution_count": 48,
     "metadata": {},
     "output_type": "execute_result"
    }
   ],
   "source": [
    "Eq(A * X, B)"
   ]
  },
  {
   "cell_type": "markdown",
   "id": "166e1e7d-711f-44f7-89fe-4df5f426693a",
   "metadata": {},
   "source": [
    "<br>"
   ]
  },
  {
   "cell_type": "code",
   "execution_count": 49,
   "id": "288ef88e-a759-4260-9034-a586ce698eee",
   "metadata": {},
   "outputs": [
    {
     "data": {
      "text/latex": [
       "$\\displaystyle \\left[\\begin{matrix}2\\\\1\\\\1\\end{matrix}\\right]$"
      ],
      "text/plain": [
       "Matrix([\n",
       "[2],\n",
       "[1],\n",
       "[1]])"
      ]
     },
     "execution_count": 49,
     "metadata": {},
     "output_type": "execute_result"
    }
   ],
   "source": [
    "# Solve the linear system Ax = B\n",
    "solution = A.LUsolve(B)\n",
    "solution"
   ]
  },
  {
   "cell_type": "code",
   "execution_count": 50,
   "id": "241b21e0-cb6d-48d3-9b99-1dfca8f77572",
   "metadata": {},
   "outputs": [
    {
     "name": "stdout",
     "output_type": "stream",
     "text": [
      "[[8]]\n",
      "[[20]]\n",
      "[[0]]\n"
     ]
    }
   ],
   "source": [
    "# Check if solution is true by multiplying rows with solution vector \"x\"\n",
    "print(np.dot(A[0,:],solution))\n",
    "print(np.dot(A[1,:],solution))\n",
    "print(np.dot(A[2,:],solution))"
   ]
  },
  {
   "cell_type": "markdown",
   "id": "f1abde10-f8f9-4d78-830f-cdff9798a74c",
   "metadata": {},
   "source": [
    "<br><br>"
   ]
  },
  {
   "cell_type": "markdown",
   "id": "64a03cab-8dd6-4d33-91b3-2a6f91d39d3b",
   "metadata": {},
   "source": [
    "## A=LU Equation"
   ]
  },
  {
   "cell_type": "markdown",
   "id": "da504ce8-2b30-4467-8687-bfc268d1ed2e",
   "metadata": {},
   "source": [
    "#### In LU decomposition, a matrix A is factored into the product of a lower triangular matrix L and an upper triangular matrix U such that: A=LU"
   ]
  },
  {
   "cell_type": "markdown",
   "id": "b1db51be-dabc-47bd-9f89-ddc48a16ddac",
   "metadata": {},
   "source": [
    "<br>"
   ]
  },
  {
   "cell_type": "code",
   "execution_count": 64,
   "id": "bb8bcc3b-2126-4559-9590-2b1342336d1b",
   "metadata": {},
   "outputs": [
    {
     "data": {
      "text/latex": [
       "$\\displaystyle \\left[\\begin{matrix}2 & 3 & 1\\\\4 & 7 & 5\\\\0 & -2 & 2\\end{matrix}\\right]$"
      ],
      "text/plain": [
       "Matrix([\n",
       "[2,  3, 1],\n",
       "[4,  7, 5],\n",
       "[0, -2, 2]])"
      ]
     },
     "execution_count": 64,
     "metadata": {},
     "output_type": "execute_result"
    }
   ],
   "source": [
    "A"
   ]
  },
  {
   "cell_type": "code",
   "execution_count": 59,
   "id": "13c5607f-742f-4c33-8366-8adae3fafeb5",
   "metadata": {},
   "outputs": [
    {
     "data": {
      "text/latex": [
       "$\\displaystyle \\left[\\begin{matrix}2 & 3 & 1\\\\0 & 1 & 3\\\\0 & 0 & 8\\end{matrix}\\right]$"
      ],
      "text/plain": [
       "Matrix([\n",
       "[2, 3, 1],\n",
       "[0, 1, 3],\n",
       "[0, 0, 8]])"
      ]
     },
     "execution_count": 59,
     "metadata": {},
     "output_type": "execute_result"
    }
   ],
   "source": [
    "# Perform LU decomposition\n",
    "L, U, _ = A.LUdecomposition()"
   ]
  },
  {
   "cell_type": "code",
   "execution_count": 60,
   "id": "4ff7b924-3177-4b76-9c57-f1a3e91f76b0",
   "metadata": {},
   "outputs": [
    {
     "data": {
      "text/latex": [
       "$\\displaystyle \\left[\\begin{matrix}1 & 0 & 0\\\\2 & 1 & 0\\\\0 & -2 & 1\\end{matrix}\\right]$"
      ],
      "text/plain": [
       "Matrix([\n",
       "[1,  0, 0],\n",
       "[2,  1, 0],\n",
       "[0, -2, 1]])"
      ]
     },
     "execution_count": 60,
     "metadata": {},
     "output_type": "execute_result"
    }
   ],
   "source": [
    "L"
   ]
  },
  {
   "cell_type": "code",
   "execution_count": 61,
   "id": "cf26e7c1-cf40-41a8-bcf4-c0200dfcaa96",
   "metadata": {},
   "outputs": [
    {
     "data": {
      "text/latex": [
       "$\\displaystyle \\left[\\begin{matrix}2 & 3 & 1\\\\0 & 1 & 3\\\\0 & 0 & 8\\end{matrix}\\right]$"
      ],
      "text/plain": [
       "Matrix([\n",
       "[2, 3, 1],\n",
       "[0, 1, 3],\n",
       "[0, 0, 8]])"
      ]
     },
     "execution_count": 61,
     "metadata": {},
     "output_type": "execute_result"
    }
   ],
   "source": [
    "U"
   ]
  },
  {
   "cell_type": "markdown",
   "id": "15469220-c50e-4eb2-8276-e3192539a749",
   "metadata": {},
   "source": [
    "#### A = LU"
   ]
  },
  {
   "cell_type": "code",
   "execution_count": 65,
   "id": "c4db53e9-ac47-40f1-a26d-cbd4fa0f966c",
   "metadata": {},
   "outputs": [
    {
     "data": {
      "text/latex": [
       "$\\displaystyle \\left[\\begin{matrix}2 & 3 & 1\\\\4 & 7 & 5\\\\0 & -2 & 2\\end{matrix}\\right]$"
      ],
      "text/plain": [
       "Matrix([\n",
       "[2,  3, 1],\n",
       "[4,  7, 5],\n",
       "[0, -2, 2]])"
      ]
     },
     "execution_count": 65,
     "metadata": {},
     "output_type": "execute_result"
    }
   ],
   "source": [
    "sympy.Matrix(np.matmul(L,U)) # Matrix Multiplication --> A= LU"
   ]
  },
  {
   "cell_type": "markdown",
   "id": "74ed7407-7f0c-478b-bf9a-d82942b57ef9",
   "metadata": {},
   "source": [
    "<br><br><br><br>"
   ]
  },
  {
   "cell_type": "markdown",
   "id": "eac449ef-2b50-4992-a61c-20ece1868a7e",
   "metadata": {},
   "source": [
    "## Inverse Matrices"
   ]
  },
  {
   "cell_type": "markdown",
   "id": "22011c1b-c212-40c5-adee-228289339330",
   "metadata": {},
   "source": [
    "<BR>"
   ]
  },
  {
   "cell_type": "markdown",
   "id": "843c95b4-aad4-4716-901d-30588292a781",
   "metadata": {},
   "source": [
    "#### inverse of a matrix A is a matrix A_inverse such that when multiplied together, they yield the identity matrix I\n",
    "* The matrix A must be square (same number of rows and columns).\n",
    "* A must be non-singular, meaning its determinant det(𝐴) is not zero"
   ]
  },
  {
   "cell_type": "markdown",
   "id": "81273a83-e618-43c4-8bc0-a3bd33d0cfc9",
   "metadata": {},
   "source": [
    "<BR>"
   ]
  },
  {
   "cell_type": "markdown",
   "id": "896a1e1b-6b7a-4274-8bf4-f147edb0f734",
   "metadata": {},
   "source": [
    "#### A * A_inverse = I    <--------->      A_inverse * A = I"
   ]
  },
  {
   "cell_type": "code",
   "execution_count": 68,
   "id": "73879949-8c64-44d9-99d3-1dab51bc01b1",
   "metadata": {},
   "outputs": [
    {
     "data": {
      "text/latex": [
       "$\\displaystyle \\left[\\begin{matrix}2 & 3 & 1\\\\4 & 7 & 5\\\\0 & -2 & 2\\end{matrix}\\right]$"
      ],
      "text/plain": [
       "Matrix([\n",
       "[2,  3, 1],\n",
       "[4,  7, 5],\n",
       "[0, -2, 2]])"
      ]
     },
     "execution_count": 68,
     "metadata": {},
     "output_type": "execute_result"
    }
   ],
   "source": [
    "A"
   ]
  },
  {
   "cell_type": "code",
   "execution_count": 67,
   "id": "544dc8ed-a305-4c20-80b0-82cfd98fa439",
   "metadata": {},
   "outputs": [
    {
     "data": {
      "text/latex": [
       "$\\displaystyle \\left[\\begin{matrix}\\frac{3}{2} & - \\frac{1}{2} & \\frac{1}{2}\\\\- \\frac{1}{2} & \\frac{1}{4} & - \\frac{3}{8}\\\\- \\frac{1}{2} & \\frac{1}{4} & \\frac{1}{8}\\end{matrix}\\right]$"
      ],
      "text/plain": [
       "Matrix([\n",
       "[ 3/2, -1/2,  1/2],\n",
       "[-1/2,  1/4, -3/8],\n",
       "[-1/2,  1/4,  1/8]])"
      ]
     },
     "execution_count": 67,
     "metadata": {},
     "output_type": "execute_result"
    }
   ],
   "source": [
    "A.inv() # sympy has a .inv() method for taking inverse of a function"
   ]
  },
  {
   "cell_type": "markdown",
   "id": "99e790c8-acdf-4107-8a7d-fda87d5dddc1",
   "metadata": {},
   "source": [
    "<br>"
   ]
  },
  {
   "cell_type": "markdown",
   "id": "236b83cd-71d6-4a2f-80ab-a5f6d3b331e5",
   "metadata": {},
   "source": [
    "#### A * A_inverse = I"
   ]
  },
  {
   "cell_type": "code",
   "execution_count": 71,
   "id": "e563a987-854e-470d-9c46-136520acb798",
   "metadata": {},
   "outputs": [
    {
     "data": {
      "text/plain": [
       "array([[1, 0, 0],\n",
       "       [0, 1, 0],\n",
       "       [0, 0, 1]], dtype=object)"
      ]
     },
     "execution_count": 71,
     "metadata": {},
     "output_type": "execute_result"
    }
   ],
   "source": [
    "# numpy\n",
    "np.matmul(A,A.inv())"
   ]
  },
  {
   "cell_type": "code",
   "execution_count": 72,
   "id": "90149a73-e093-40a2-bfce-37e1b98d74e1",
   "metadata": {},
   "outputs": [
    {
     "data": {
      "text/latex": [
       "$\\displaystyle \\left[\\begin{matrix}1 & 0 & 0\\\\0 & 1 & 0\\\\0 & 0 & 1\\end{matrix}\\right]$"
      ],
      "text/plain": [
       "Matrix([\n",
       "[1, 0, 0],\n",
       "[0, 1, 0],\n",
       "[0, 0, 1]])"
      ]
     },
     "execution_count": 72,
     "metadata": {},
     "output_type": "execute_result"
    }
   ],
   "source": [
    "# sympy\n",
    "A*(A.inv()) "
   ]
  },
  {
   "cell_type": "markdown",
   "id": "d9b34569-19dc-429e-9b4b-00f180d95643",
   "metadata": {},
   "source": [
    "<br><br><br>"
   ]
  },
  {
   "cell_type": "markdown",
   "id": "62aaa299-d3b7-498f-80c5-2d5414872be4",
   "metadata": {},
   "source": [
    "#### (A*B)_inverse = B_inverse * A_inverse  "
   ]
  },
  {
   "cell_type": "code",
   "execution_count": 6,
   "id": "4a21cd00-0bff-4329-971b-fd0b89f34b50",
   "metadata": {},
   "outputs": [
    {
     "data": {
      "text/latex": [
       "$\\displaystyle \\left[\\begin{matrix}2 & 3\\\\4 & 7\\end{matrix}\\right]$"
      ],
      "text/plain": [
       "Matrix([\n",
       "[2, 3],\n",
       "[4, 7]])"
      ]
     },
     "execution_count": 6,
     "metadata": {},
     "output_type": "execute_result"
    }
   ],
   "source": [
    "# Matrix A\n",
    "m1 = np.array([2,4])\n",
    "m2 = np.array([3,7])\n",
    "\n",
    "matrix_A = np.column_stack((m1, m2))\n",
    "sympy.Matrix(matrix_A)"
   ]
  },
  {
   "cell_type": "code",
   "execution_count": 7,
   "id": "d0fca3d3-2d9a-4076-8904-0df79f808cff",
   "metadata": {},
   "outputs": [
    {
     "data": {
      "text/latex": [
       "$\\displaystyle \\left[\\begin{matrix}12 & 1\\\\3 & 27\\end{matrix}\\right]$"
      ],
      "text/plain": [
       "Matrix([\n",
       "[12,  1],\n",
       "[ 3, 27]])"
      ]
     },
     "execution_count": 7,
     "metadata": {},
     "output_type": "execute_result"
    }
   ],
   "source": [
    "# Matrix B\n",
    "m3 = np.array([12,3])\n",
    "m4 = np.array([1,27])\n",
    "\n",
    "matrix_B = np.column_stack((m3, m4))\n",
    "sympy.Matrix(matrix_B)"
   ]
  },
  {
   "cell_type": "code",
   "execution_count": 8,
   "id": "77edf7d2-3433-4bb2-871c-3d701dcd86a5",
   "metadata": {},
   "outputs": [
    {
     "data": {
      "text/latex": [
       "$\\displaystyle \\left[\\begin{matrix}0.300623052959502 & -0.129283489096573\\\\-0.107476635514019 & 0.0514018691588785\\end{matrix}\\right]$"
      ],
      "text/plain": [
       "Matrix([\n",
       "[ 0.300623052959502, -0.129283489096573],\n",
       "[-0.107476635514019, 0.0514018691588785]])"
      ]
     },
     "execution_count": 8,
     "metadata": {},
     "output_type": "execute_result"
    }
   ],
   "source": [
    "# (A*B)_İNVERSE\n",
    "equation1 = np.linalg.inv(np.matmul(matrix_A,matrix_B))\n",
    "sympy.Matrix(equation1)"
   ]
  },
  {
   "cell_type": "code",
   "execution_count": 10,
   "id": "05a1bc4e-b481-4aa3-8d9e-610fef481f96",
   "metadata": {},
   "outputs": [
    {
     "data": {
      "text/latex": [
       "$\\displaystyle \\left[\\begin{matrix}0.300623052959501 & -0.129283489096573\\\\-0.107476635514019 & 0.0514018691588785\\end{matrix}\\right]$"
      ],
      "text/plain": [
       "Matrix([\n",
       "[ 0.300623052959501, -0.129283489096573],\n",
       "[-0.107476635514019, 0.0514018691588785]])"
      ]
     },
     "execution_count": 10,
     "metadata": {},
     "output_type": "execute_result"
    }
   ],
   "source": [
    "# B_İNVERSE * A_İNVERSE\n",
    "equation2 = np.matmul(np.linalg.inv(matrix_B),np.linalg.inv(matrix_A))\n",
    "sympy.Matrix(equation2)"
   ]
  },
  {
   "cell_type": "markdown",
   "id": "5e6a7384-87ca-4de6-b94f-7f011e0c26e0",
   "metadata": {},
   "source": [
    "<br><br>"
   ]
  },
  {
   "cell_type": "markdown",
   "id": "a3af2f61-cc5d-42c8-9193-4a31fa80eb6f",
   "metadata": {},
   "source": [
    "## Determinant"
   ]
  },
  {
   "cell_type": "markdown",
   "id": "5ce969f1-38d5-41de-b8a4-577d99c48c55",
   "metadata": {},
   "source": [
    "#### Determinant is a scalar value that can be computed from the elements of a square matrix. ( more on chapter 5 )\n",
    "* If det(𝐴) = 0 --> Singular matrix : matrix does not have an inverse ,  linear equations that either has no solution or an infinite number of solutions<br>\n",
    "<br>\n",
    "* If det(𝐴) != 0 --> non Singular matrix : matrix has an inverse, linear equations that has a unique solution<br>\n",
    "<br>\n",
    "* det(A_transpose) = det(A)"
   ]
  },
  {
   "cell_type": "markdown",
   "id": "a7bb1ca1-4e64-47be-b3db-dc89ad2331d6",
   "metadata": {},
   "source": [
    "<br>"
   ]
  },
  {
   "cell_type": "code",
   "execution_count": 13,
   "id": "47851676-7f0f-45de-9a9c-85d7f5af337f",
   "metadata": {},
   "outputs": [
    {
     "data": {
      "text/latex": [
       "$\\displaystyle \\left[\\begin{matrix}2 & 3\\\\4 & 7\\end{matrix}\\right]$"
      ],
      "text/plain": [
       "Matrix([\n",
       "[2, 3],\n",
       "[4, 7]])"
      ]
     },
     "execution_count": 13,
     "metadata": {},
     "output_type": "execute_result"
    }
   ],
   "source": [
    "x = np.array([2,4])\n",
    "y = np.array([3,7])\n",
    "\n",
    "A = np.column_stack((x, y))\n",
    "\n",
    "sympy.Matrix(A)"
   ]
  },
  {
   "cell_type": "code",
   "execution_count": 14,
   "id": "3a78ff1f-7f5f-4920-a869-acba602dc100",
   "metadata": {},
   "outputs": [
    {
     "data": {
      "text/plain": [
       "2.0"
      ]
     },
     "execution_count": 14,
     "metadata": {},
     "output_type": "execute_result"
    }
   ],
   "source": [
    "np.linalg.det(A) # 2*7 - 4*3 = 2"
   ]
  },
  {
   "cell_type": "markdown",
   "id": "5e9f55f2-74b6-41bd-a4ef-cde8e0d35c9d",
   "metadata": {},
   "source": [
    "<br><br><br>"
   ]
  },
  {
   "cell_type": "markdown",
   "id": "a5768f93-1c9b-48cd-bc1a-5f42007c1dfc",
   "metadata": {},
   "source": [
    "## Permutation Matrices"
   ]
  },
  {
   "cell_type": "markdown",
   "id": "64e2050a-cf90-40e6-b55f-ef2e7a593757",
   "metadata": {},
   "source": [
    "#### A permutation matrix is a special type of square matrix that is used to rearrange or permute the rows or columns of another matrix."
   ]
  },
  {
   "cell_type": "markdown",
   "id": "9c69420a-8159-4429-9ba3-d32d52e9537d",
   "metadata": {},
   "source": [
    "<br>"
   ]
  },
  {
   "cell_type": "markdown",
   "id": "02aee29b-fdab-4f9a-85a0-ac958bc73825",
   "metadata": {},
   "source": [
    "#### Purpose of this example : changing row order with permutation matrix dont affect solution X"
   ]
  },
  {
   "cell_type": "code",
   "execution_count": 46,
   "id": "4832c919-3cbd-437f-9c3c-5b9dd29c8e81",
   "metadata": {},
   "outputs": [
    {
     "data": {
      "text/latex": [
       "$\\displaystyle \\left[\\begin{matrix}2 & 3 & 1\\\\4 & 7 & 5\\\\0 & -2 & 2\\end{matrix}\\right]$"
      ],
      "text/plain": [
       "Matrix([\n",
       "[2,  3, 1],\n",
       "[4,  7, 5],\n",
       "[0, -2, 2]])"
      ]
     },
     "execution_count": 46,
     "metadata": {},
     "output_type": "execute_result"
    }
   ],
   "source": [
    "x = np.array([2,4,0])\n",
    "y = np.array([3,7,-2])\n",
    "z = np.array([1,5,2])\n",
    "\n",
    "\n",
    "A = np.column_stack((x, y, z))\n",
    "\n",
    "A  = sympy.Matrix(A)\n",
    "A"
   ]
  },
  {
   "cell_type": "code",
   "execution_count": 47,
   "id": "d9a93360-1417-4b97-80d2-f3e97ed232ab",
   "metadata": {},
   "outputs": [
    {
     "data": {
      "text/latex": [
       "$\\displaystyle \\left[\\begin{matrix}8\\\\20\\\\0\\end{matrix}\\right]$"
      ],
      "text/plain": [
       "Matrix([\n",
       "[ 8],\n",
       "[20],\n",
       "[ 0]])"
      ]
     },
     "execution_count": 47,
     "metadata": {},
     "output_type": "execute_result"
    }
   ],
   "source": [
    "B = np.array([8,20,0])\n",
    "B = sympy.Matrix(B) # default column vector\n",
    "B"
   ]
  },
  {
   "cell_type": "code",
   "execution_count": 48,
   "id": "8c6dffa2-dd71-4b16-8619-d9a2a5f706e3",
   "metadata": {},
   "outputs": [
    {
     "data": {
      "text/latex": [
       "$\\displaystyle \\left[\\begin{matrix}2\\\\1\\\\1\\end{matrix}\\right]$"
      ],
      "text/plain": [
       "Matrix([\n",
       "[2],\n",
       "[1],\n",
       "[1]])"
      ]
     },
     "execution_count": 48,
     "metadata": {},
     "output_type": "execute_result"
    }
   ],
   "source": [
    "# Solve the linear system Ax = B\n",
    "solution = A.LUsolve(B)\n",
    "solution"
   ]
  },
  {
   "cell_type": "markdown",
   "id": "23ecc91c-f317-400c-b085-04d405d05fbf",
   "metadata": {},
   "source": [
    "<br>"
   ]
  },
  {
   "cell_type": "code",
   "execution_count": 36,
   "id": "16ea9d1e-2373-4bc3-a6f6-ceef857fdd9e",
   "metadata": {},
   "outputs": [
    {
     "data": {
      "text/latex": [
       "$\\displaystyle \\left[\\begin{matrix}0 & 0 & 1\\\\0 & 1 & 0\\\\1 & 0 & 0\\end{matrix}\\right]$"
      ],
      "text/plain": [
       "Matrix([\n",
       "[0, 0, 1],\n",
       "[0, 1, 0],\n",
       "[1, 0, 0]])"
      ]
     },
     "execution_count": 36,
     "metadata": {},
     "output_type": "execute_result"
    }
   ],
   "source": [
    "# permutation matrix \n",
    "x = np.array([0,0,1])\n",
    "y = np.array([0,1,0])\n",
    "z = np.array([1,0,0])\n",
    "# first and third row changed\n",
    "\n",
    "\n",
    "permutation = np.column_stack((x, y, z))\n",
    "\n",
    "sympy.Matrix(permutation)\n"
   ]
  },
  {
   "cell_type": "markdown",
   "id": "04d47edd-6bd3-4b76-b5df-7e226c42305b",
   "metadata": {},
   "source": [
    "<br>"
   ]
  },
  {
   "cell_type": "code",
   "execution_count": 49,
   "id": "2a64c445-f162-4154-b28f-1a9b3c6d6d3a",
   "metadata": {},
   "outputs": [
    {
     "data": {
      "text/latex": [
       "$\\displaystyle \\left[\\begin{matrix}0 & -2 & 2\\\\4 & 7 & 5\\\\2 & 3 & 1\\end{matrix}\\right]$"
      ],
      "text/plain": [
       "Matrix([\n",
       "[0, -2, 2],\n",
       "[4,  7, 5],\n",
       "[2,  3, 1]])"
      ]
     },
     "execution_count": 49,
     "metadata": {},
     "output_type": "execute_result"
    }
   ],
   "source": [
    "matrix_row_changed = np.matmul(permutation,A) # row1 and row3 \n",
    "matrix_row_changed = sympy.Matrix(row_changed)\n",
    "matrix_row_changed"
   ]
  },
  {
   "cell_type": "code",
   "execution_count": 50,
   "id": "13311a85-b7e5-4b31-a1dc-d3aacf1103ab",
   "metadata": {},
   "outputs": [
    {
     "data": {
      "text/latex": [
       "$\\displaystyle \\left[\\begin{matrix}0\\\\20\\\\8\\end{matrix}\\right]$"
      ],
      "text/plain": [
       "Matrix([\n",
       "[ 0],\n",
       "[20],\n",
       "[ 8]])"
      ]
     },
     "execution_count": 50,
     "metadata": {},
     "output_type": "execute_result"
    }
   ],
   "source": [
    "solution_row_changed = np.matmul(permutation,B)\n",
    "solution_row_changed = sympy.Matrix(solution_row_changed) # row1 and row3\n",
    "solution_row_changed"
   ]
  },
  {
   "cell_type": "code",
   "execution_count": 51,
   "id": "85b6d0f5-4a30-400c-8823-be3e34ed9e54",
   "metadata": {},
   "outputs": [
    {
     "data": {
      "text/latex": [
       "$\\displaystyle \\left[\\begin{matrix}2\\\\1\\\\1\\end{matrix}\\right]$"
      ],
      "text/plain": [
       "Matrix([\n",
       "[2],\n",
       "[1],\n",
       "[1]])"
      ]
     },
     "execution_count": 51,
     "metadata": {},
     "output_type": "execute_result"
    }
   ],
   "source": [
    "# Solve the linear system Ax = B\n",
    "solution = matrix_row_changed.LUsolve(solution_row_changed)\n",
    "solution"
   ]
  },
  {
   "cell_type": "markdown",
   "id": "36b48c20-229f-4e6b-93ba-9f06af9ecf89",
   "metadata": {},
   "source": [
    "<br><br><br>"
   ]
  },
  {
   "cell_type": "markdown",
   "id": "8636f660-1932-487d-b4b3-47eec3946690",
   "metadata": {},
   "source": [
    "## Transpose "
   ]
  },
  {
   "cell_type": "markdown",
   "id": "f013d66b-ce3c-44dd-af4d-4bb8c6e99b83",
   "metadata": {},
   "source": [
    "#### The transpose of a matrix is an operation that flips a matrix over its diagonal, turning its rows into columns and its columns into rows."
   ]
  },
  {
   "cell_type": "markdown",
   "id": "fc90e54d-e593-4b96-b600-0376a2b88157",
   "metadata": {},
   "source": [
    "<br>"
   ]
  },
  {
   "cell_type": "markdown",
   "id": "a7be092e-3f90-4da1-84e1-e779edfcba7c",
   "metadata": {},
   "source": [
    "#### (AB)_transpose = B_transpose * A_transpose"
   ]
  },
  {
   "cell_type": "code",
   "execution_count": 54,
   "id": "f8adec21-9b1c-46ee-98da-98de1ffa8f7e",
   "metadata": {},
   "outputs": [
    {
     "data": {
      "text/latex": [
       "$\\displaystyle \\left[\\begin{matrix}2 & 3 & 1\\\\4 & 7 & 5\\\\0 & -2 & 2\\end{matrix}\\right]$"
      ],
      "text/plain": [
       "Matrix([\n",
       "[2,  3, 1],\n",
       "[4,  7, 5],\n",
       "[0, -2, 2]])"
      ]
     },
     "execution_count": 54,
     "metadata": {},
     "output_type": "execute_result"
    }
   ],
   "source": [
    "x = np.array([2,4,0])\n",
    "y = np.array([3,7,-2])\n",
    "z = np.array([1,5,2])\n",
    "\n",
    "\n",
    "A = np.column_stack((x, y, z))\n",
    "\n",
    "A  = sympy.Matrix(A)\n",
    "A"
   ]
  },
  {
   "cell_type": "code",
   "execution_count": 57,
   "id": "0afb5a17-0db7-4fb0-bcad-2e4b9790c012",
   "metadata": {},
   "outputs": [
    {
     "data": {
      "text/latex": [
       "$\\displaystyle \\left[\\begin{matrix}2 & 1 & 1\\\\0 & 2 & 2\\\\0 & -2 & -3\\end{matrix}\\right]$"
      ],
      "text/plain": [
       "Matrix([\n",
       "[2,  1,  1],\n",
       "[0,  2,  2],\n",
       "[0, -2, -3]])"
      ]
     },
     "execution_count": 57,
     "metadata": {},
     "output_type": "execute_result"
    }
   ],
   "source": [
    "x = np.array([2,0,0])\n",
    "y = np.array([1,2,-2])\n",
    "z = np.array([1,2,-3])\n",
    "\n",
    "\n",
    "B = np.column_stack((x, y, z))\n",
    "\n",
    "B  = sympy.Matrix(B)\n",
    "B"
   ]
  },
  {
   "cell_type": "markdown",
   "id": "f882be32-3205-4bf6-89f8-7d516b879e4e",
   "metadata": {},
   "source": [
    "<br>"
   ]
  },
  {
   "cell_type": "code",
   "execution_count": 61,
   "id": "463efcee-f0f0-4b2e-b29e-8b143c646c5c",
   "metadata": {
    "scrolled": true
   },
   "outputs": [
    {
     "data": {
      "text/latex": [
       "$\\displaystyle \\left[\\begin{matrix}4 & 8 & 0\\\\6 & 8 & -8\\\\5 & 3 & -10\\end{matrix}\\right]$"
      ],
      "text/plain": [
       "Matrix([\n",
       "[4, 8,   0],\n",
       "[6, 8,  -8],\n",
       "[5, 3, -10]])"
      ]
     },
     "execution_count": 61,
     "metadata": {},
     "output_type": "execute_result"
    }
   ],
   "source": [
    "sympy.Matrix(np.matmul(A,B).T)"
   ]
  },
  {
   "cell_type": "code",
   "execution_count": 62,
   "id": "feac6448-75f8-43be-971b-fca63fc5aba3",
   "metadata": {},
   "outputs": [
    {
     "data": {
      "text/latex": [
       "$\\displaystyle \\left[\\begin{matrix}4 & 8 & 0\\\\6 & 8 & -8\\\\5 & 3 & -10\\end{matrix}\\right]$"
      ],
      "text/plain": [
       "Matrix([\n",
       "[4, 8,   0],\n",
       "[6, 8,  -8],\n",
       "[5, 3, -10]])"
      ]
     },
     "execution_count": 62,
     "metadata": {},
     "output_type": "execute_result"
    }
   ],
   "source": [
    "sympy.Matrix(np.matmul(B.T,A.T))"
   ]
  },
  {
   "cell_type": "markdown",
   "id": "47c3973a-c979-4c99-967b-40fd09791a56",
   "metadata": {},
   "source": [
    "<br><br><br><br><br><br>"
   ]
  }
 ],
 "metadata": {
  "kernelspec": {
   "display_name": "Python 3 (ipykernel)",
   "language": "python",
   "name": "python3"
  },
  "language_info": {
   "codemirror_mode": {
    "name": "ipython",
    "version": 3
   },
   "file_extension": ".py",
   "mimetype": "text/x-python",
   "name": "python",
   "nbconvert_exporter": "python",
   "pygments_lexer": "ipython3",
   "version": "3.10.0"
  }
 },
 "nbformat": 4,
 "nbformat_minor": 5
}
